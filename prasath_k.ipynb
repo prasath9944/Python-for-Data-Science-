{
  "nbformat": 4,
  "nbformat_minor": 0,
  "metadata": {
    "colab": {
      "name": "prasath k.ipynb",
      "provenance": [],
      "include_colab_link": true
    },
    "kernelspec": {
      "name": "python3",
      "display_name": "Python 3"
    }
  },
  "cells": [
    {
      "cell_type": "markdown",
      "metadata": {
        "id": "view-in-github",
        "colab_type": "text"
      },
      "source": [
        "<a href=\"https://colab.research.google.com/github/prasath9944/Python-for-Data-Science-/blob/master/prasath_k.ipynb\" target=\"_parent\"><img src=\"https://colab.research.google.com/assets/colab-badge.svg\" alt=\"Open In Colab\"/></a>"
      ]
    },
    {
      "cell_type": "code",
      "metadata": {
        "id": "Wse-R_x8jyf3"
      },
      "source": [
        "import tensorflow as tf\n",
        "from tensorflow.keras.models import Sequential\n",
        "from tensorflow.keras.layers import Input, Dense\n",
        "import numpy as np"
      ],
      "execution_count": 1,
      "outputs": []
    },
    {
      "cell_type": "code",
      "metadata": {
        "id": "jpsKgUCjhr8c"
      },
      "source": [
        ""
      ],
      "execution_count": null,
      "outputs": []
    },
    {
      "cell_type": "code",
      "metadata": {
        "id": "9o41U12bhsOD"
      },
      "source": [
        ""
      ],
      "execution_count": null,
      "outputs": []
    },
    {
      "cell_type": "markdown",
      "metadata": {
        "id": "uR09DwcRHZhe"
      },
      "source": [
        "Creating dataset for an And Gate"
      ]
    },
    {
      "cell_type": "code",
      "metadata": {
        "id": "bTqQcJZ69h3B"
      },
      "source": [
        "x = np.array([[0,0], [0,1], [1,0], [1,1]], \"uint8\")\n",
        "y = np.array([[0], [0], [0], [1]], \"uint8\")"
      ],
      "execution_count": 2,
      "outputs": []
    },
    {
      "cell_type": "markdown",
      "metadata": {
        "id": "fMFNP8AOHijP"
      },
      "source": [
        "### CREATING A SEQUENTIAL MODEL USING TENSORFLOW"
      ]
    },
    {
      "cell_type": "code",
      "metadata": {
        "colab": {
          "base_uri": "https://localhost:8080/"
        },
        "id": "Myluyhn092EM",
        "outputId": "a42de334-abcf-4c40-bae6-13d2984012ca"
      },
      "source": [
        "model = Sequential()\n",
        "model.add(Dense(units=2, activation='sigmoid',input_dim=4))   ## MODEL CONTAINS ONLY ONE OUTPUT NEURON\n",
        "model.compile(optimizer='adam', loss='binary_crossentropy', metrics=['accuracy'])\n",
        "model.summary()"
      ],
      "execution_count": 3,
      "outputs": [
        {
          "output_type": "stream",
          "text": [
            "Model: \"sequential\"\n",
            "_________________________________________________________________\n",
            "Layer (type)                 Output Shape              Param #   \n",
            "=================================================================\n",
            "dense (Dense)                (None, 2)                 10        \n",
            "=================================================================\n",
            "Total params: 10\n",
            "Trainable params: 10\n",
            "Non-trainable params: 0\n",
            "_________________________________________________________________\n"
          ],
          "name": "stdout"
        }
      ]
    },
    {
      "cell_type": "code",
      "metadata": {
        "colab": {
          "base_uri": "https://localhost:8080/"
        },
        "id": "DWD_fBMcAnPR",
        "outputId": "27721f63-3fb5-488c-deb0-97732cf8f0c9"
      },
      "source": [
        "print(model.layers[0].get_weights())"
      ],
      "execution_count": 4,
      "outputs": [
        {
          "output_type": "stream",
          "text": [
            "[array([[-0.14226818, -0.72391343],\n",
            "       [ 0.17851973,  0.566165  ],\n",
            "       [-0.33578825,  0.2716148 ],\n",
            "       [ 0.81438994, -0.9806762 ]], dtype=float32), array([0., 0.], dtype=float32)]\n"
          ],
          "name": "stdout"
        }
      ]
    },
    {
      "cell_type": "markdown",
      "metadata": {
        "id": "OTE6FCUjHyk_"
      },
      "source": [
        "### CREATING DATABASE FOR A XOR GATE"
      ]
    },
    {
      "cell_type": "code",
      "metadata": {
        "id": "QN1GNEV-Zpes"
      },
      "source": [
        "model.predict(x)"
      ],
      "execution_count": null,
      "outputs": []
    },
    {
      "cell_type": "code",
      "metadata": {
        "id": "5xepj5f4Az8O"
      },
      "source": [
        "x = [[0,0], [0,1], [1,0], [1,1]]\n",
        "y = [[0], [1], [1], [0]]"
      ],
      "execution_count": null,
      "outputs": []
    },
    {
      "cell_type": "code",
      "metadata": {
        "id": "9uSJOUrvA-2Z"
      },
      "source": [
        "xor = Sequential()\n",
        "xor.add(Dense(7, input_dim=4, activation='sigmoid')) \n",
        "xor.add(Dense(4, activation='sigmoid')) \n",
        "xor.compile(optimizer='adam', loss='binary_crossentropy', metrics=['accuracy'])\n",
        "xor.summary()"
      ],
      "execution_count": null,
      "outputs": []
    },
    {
      "cell_type": "code",
      "metadata": {
        "id": "Mx-3bunLBtH2"
      },
      "source": [
        "xor.get_weights()"
      ],
      "execution_count": null,
      "outputs": []
    },
    {
      "cell_type": "markdown",
      "metadata": {
        "id": "EIaZx-QcH7sl"
      },
      "source": [
        "### Deep Neural Network"
      ]
    },
    {
      "cell_type": "code",
      "metadata": {
        "id": "wDqdlHs2HCxm"
      },
      "source": [
        "tf.keras.datasets.fashion_mnist.load_data()"
      ],
      "execution_count": null,
      "outputs": []
    },
    {
      "cell_type": "code",
      "metadata": {
        "id": "pZNR7n67yYUw"
      },
      "source": [
        "(X_train, y_train), (X_test, y_test) = mnist.load_data()"
      ],
      "execution_count": null,
      "outputs": []
    },
    {
      "cell_type": "code",
      "metadata": {
        "id": "wTGQmHc4yai0"
      },
      "source": [
        "import matplotlib.pyplot as plt\n",
        " \n",
        "plt.subplot(221)\n",
        "plt.imshow(X_train[0], cmap=plt.get_cmap('T-shirt'))\n",
        "plt.subplot(222)\n",
        "plt.imshow(X_train[1], cmap=plt.get_cmap('Trouser'))\n",
        "plt.subplot(223)\n",
        "plt.imshow(x_train[2], cmap=plt.get_cmap('Pullover'))\n",
        "plt.subplot(224)\n",
        "plt.imshow(x_train[3], cmap=plt.get_cmap('Dress'))\n",
        "plt.show()"
      ],
      "execution_count": null,
      "outputs": []
    },
    {
      "cell_type": "code",
      "metadata": {
        "id": "ahAOSwshycHT"
      },
      "source": [
        "X_train[0].shape"
      ],
      "execution_count": null,
      "outputs": []
    },
    {
      "cell_type": "code",
      "metadata": {
        "id": "goGvDPuwyhrZ"
      },
      "source": [
        "X_train = X_train.reshape((X_train.shape[0], 28*28)).astype('float32')\n",
        "X_test = X_test.reshape((X_test.shape[0], 28*28)).astype('float32')"
      ],
      "execution_count": null,
      "outputs": []
    },
    {
      "cell_type": "code",
      "metadata": {
        "id": "eSAAgk4XymAV"
      },
      "source": [
        "\n",
        "X_train = X_train / 255\n",
        "X_test = X_test / 255"
      ],
      "execution_count": null,
      "outputs": []
    },
    {
      "cell_type": "code",
      "metadata": {
        "id": "bKKBf7KGyqc9"
      },
      "source": [
        "from keras.utils import np_utils\n",
        " \n",
        "y_train = np_utils.to_categorical(y_train)\n",
        "y_test = np_utils.to_categorical(y_test)\n",
        "num_classes = y_test.shape[1]"
      ],
      "execution_count": null,
      "outputs": []
    },
    {
      "cell_type": "code",
      "metadata": {
        "id": "LmDAuKVlyxGy"
      },
      "source": [
        "from keras.models import Sequential\n",
        "from keras.layers import Dense\n",
        "from keras.layers import Dropout"
      ],
      "execution_count": null,
      "outputs": []
    },
    {
      "cell_type": "code",
      "metadata": {
        "id": "hEmDX_dpy1SK"
      },
      "source": [
        "model = Sequential()\n",
        "model.add(Dense(32, input_dim = 28*28, activation='relu'))  \n",
        "model.add(Dense(64, activation='relu'))  \n",
        "model.add(Dense(20, activation='softmax'))  \n",
        "model.add(Dense(72, activation='relu')) \n",
        "model.add(Dense(128, activation='softmax'))"
      ],
      "execution_count": null,
      "outputs": []
    },
    {
      "cell_type": "code",
      "metadata": {
        "id": "cXu8PZJky518"
      },
      "source": [
        "model.compile(loss='categorical_crossentropy', optimizer='adam', metrics=['accuracy'])"
      ],
      "execution_count": null,
      "outputs": []
    },
    {
      "cell_type": "code",
      "metadata": {
        "id": "AexOuCIfzBAd"
      },
      "source": [
        "model.summary()"
      ],
      "execution_count": null,
      "outputs": []
    },
    {
      "cell_type": "code",
      "metadata": {
        "id": "eDEatakqUZ_C"
      },
      "source": [
        "model.fit(X_train, y_train, validation_split=0.2 , epochs=10, batch_size=100)"
      ],
      "execution_count": null,
      "outputs": []
    },
    {
      "cell_type": "code",
      "metadata": {
        "id": "yNPpbqDQzLqo"
      },
      "source": [
        "scores = model.evaluate(X_test, y_test)\n",
        "print(scores)"
      ],
      "execution_count": null,
      "outputs": []
    }
  ]
}